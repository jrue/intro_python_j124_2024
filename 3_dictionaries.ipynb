{
 "cells": [
  {
   "cell_type": "code",
   "execution_count": null,
   "id": "9cc0b4b5-5ed1-4886-bd2d-b88c30ea41b2",
   "metadata": {},
   "outputs": [],
   "source": []
  },
  {
   "cell_type": "markdown",
   "id": "ad16c766",
   "metadata": {},
   "source": [
    "### Dictionaries\n",
    "\n",
    "The next datatype is dictionaries. Dictionaries are similar to JSON, which we'll go over later in class. \n",
    "\n",
    "The important thing to know about dictionaries is they store values by properties called \"keys\" (similar to CSS)."
   ]
  },
  {
   "cell_type": "code",
   "execution_count": null,
   "id": "00a3dffe",
   "metadata": {},
   "outputs": [],
   "source": [
    "# Curly braces! Not brackets \n",
    "\n",
    "my_dict = { \n",
    "    \"city\": \"Berkeley\", \n",
    "    \"state\": \"California\", \n",
    "    \"county\": \"Alameda\", \n",
    "    \"zip\": 94720\n",
    "}\n",
    "\n",
    "my_dict"
   ]
  },
  {
   "cell_type": "markdown",
   "id": "e370b612",
   "metadata": {},
   "source": [
    "We can recall any value by its keys using notation similar to lists, but putting the property string instead of an index."
   ]
  },
  {
   "cell_type": "code",
   "execution_count": null,
   "id": "46da728a",
   "metadata": {},
   "outputs": [],
   "source": [
    "my_dict[\"city\"]"
   ]
  },
  {
   "cell_type": "code",
   "execution_count": null,
   "id": "6bfc6808",
   "metadata": {},
   "outputs": [],
   "source": [
    "my_dict[\"zip\"]"
   ]
  },
  {
   "cell_type": "code",
   "execution_count": null,
   "id": "a0e3cf76",
   "metadata": {},
   "outputs": [],
   "source": [
    "my_dict.keys()"
   ]
  },
  {
   "cell_type": "code",
   "execution_count": null,
   "id": "db1edf17",
   "metadata": {},
   "outputs": [],
   "source": [
    "my_dict.values()"
   ]
  }
 ],
 "metadata": {
  "kernelspec": {
   "display_name": "Python 3 (ipykernel)",
   "language": "python",
   "name": "python3"
  },
  "language_info": {
   "codemirror_mode": {
    "name": "ipython",
    "version": 3
   },
   "file_extension": ".py",
   "mimetype": "text/x-python",
   "name": "python",
   "nbconvert_exporter": "python",
   "pygments_lexer": "ipython3",
   "version": "3.12.1"
  }
 },
 "nbformat": 4,
 "nbformat_minor": 5
}
