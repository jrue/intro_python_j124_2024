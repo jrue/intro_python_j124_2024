{
 "cells": [
  {
   "cell_type": "code",
   "execution_count": null,
   "id": "7a7507a2-7edc-43f6-9194-4b971b2341ac",
   "metadata": {},
   "outputs": [],
   "source": []
  },
  {
   "cell_type": "markdown",
   "id": "e31b317f",
   "metadata": {},
   "source": [
    "## Importing Libraries\n",
    "\n",
    "Okay, now that we have all of that out of the way, we will do some data stuff. The first thing we need to do is import some libraries. We will use the popular Pandas library, and also import Seaborn for doing some basic data visaulizations. These libraries were installed prior to this lesson, so you don't have to install them. But if you were doing this on your own, you'd need to install them before running the code below."
   ]
  },
  {
   "cell_type": "code",
   "execution_count": null,
   "id": "4a63d525",
   "metadata": {},
   "outputs": [],
   "source": [
    "import numpy as np\n",
    "import pandas as pd\n",
    "import seaborn as sns\n",
    "import matplotlib.pyplot as plt"
   ]
  },
  {
   "cell_type": "markdown",
   "id": "5143e53d",
   "metadata": {},
   "source": [
    "Now that we've imported our libraries, let's bring in our .csv file using pandas. Notice above, our Pandas library was stored in a variable called \"pd\" (short for Pandas). Technically, we could have specified anything for our Pandas library, but pd is the standard convention, so let's stick with that."
   ]
  },
  {
   "cell_type": "code",
   "execution_count": null,
   "id": "8be1eb33",
   "metadata": {},
   "outputs": [],
   "source": [
    "pulitzers = pd.read_csv(\"pulitzer-circulation-data.csv\", encoding='utf-8')"
   ]
  },
  {
   "cell_type": "markdown",
   "id": "f294c517",
   "metadata": {},
   "source": [
    "Now, let's take a look and see what it looks like. We can run the command `head()` on the variable to see the first five rows of data."
   ]
  },
  {
   "cell_type": "code",
   "execution_count": null,
   "id": "e96b6c48",
   "metadata": {},
   "outputs": [],
   "source": [
    "pulitzers.head()"
   ]
  },
  {
   "cell_type": "markdown",
   "id": "81cc70a5",
   "metadata": {},
   "source": [
    "We can also put a number in the parenthesis to specify a specific number of rows to show."
   ]
  },
  {
   "cell_type": "code",
   "execution_count": null,
   "id": "706eee99",
   "metadata": {},
   "outputs": [],
   "source": [
    "pulitzers.head(10)"
   ]
  },
  {
   "cell_type": "markdown",
   "id": "f28b5f1d",
   "metadata": {},
   "source": [
    "### Interview Functions\n",
    "\n",
    "Let's interview our data. Here are some functions we can run. The \"df\" is a placeholder for your data. It's stands for \"data frame\" which is what we call this datatype when using Pandas.\n",
    "\n",
    "`df.head()` - get the first 5 rows of your data (or specify number)\n",
    "\n",
    "`df.tail()` - get the last 5 rows of your data (or specify number)\n",
    "\n",
    "`df.sample(5)` - get a random sampling of 5 rows of your data\n",
    "\n",
    "`df.columns` - get a list of all the columns\n",
    "\n",
    "`df.info()` - get number of rows with data and data type for each column \n",
    "\n",
    "`df.shape` - get the number of rows and columns\n",
    "\n",
    "`df.describe()` - get a variety of statistical calculations for all values in each column\n",
    "\n",
    "Let's take these functions for a spin:"
   ]
  },
  {
   "cell_type": "code",
   "execution_count": null,
   "id": "7a6b8dda",
   "metadata": {},
   "outputs": [],
   "source": [
    "#also try pulitzers.columns[2:5]\n",
    "pulitzers.columns"
   ]
  },
  {
   "cell_type": "code",
   "execution_count": null,
   "id": "98529117",
   "metadata": {},
   "outputs": [],
   "source": [
    "#describes the number of rows and columns\n",
    "pulitzers.shape"
   ]
  },
  {
   "cell_type": "code",
   "execution_count": null,
   "id": "85aa8126",
   "metadata": {},
   "outputs": [],
   "source": [
    "pulitzers.describe()"
   ]
  },
  {
   "cell_type": "markdown",
   "id": "ad99e076",
   "metadata": {},
   "source": [
    "Note that we can also use dot-notation to call any column we want."
   ]
  },
  {
   "cell_type": "code",
   "execution_count": null,
   "id": "e0c35809",
   "metadata": {},
   "outputs": [],
   "source": [
    "pulitzers.Newspaper"
   ]
  },
  {
   "cell_type": "code",
   "execution_count": null,
   "id": "584cbc1c",
   "metadata": {},
   "outputs": [],
   "source": [
    "pulitzers[\"Daily Circulation, 2013\"]"
   ]
  },
  {
   "cell_type": "code",
   "execution_count": null,
   "id": "58aa1b4f",
   "metadata": {},
   "outputs": [],
   "source": [
    "pulitzers.info()"
   ]
  },
  {
   "cell_type": "code",
   "execution_count": null,
   "id": "261a2818",
   "metadata": {},
   "outputs": [],
   "source": [
    "sns.lmplot(\n",
    "    x=\"Pulitzer Prize Winners and Finalists, 1990-2014\", \n",
    "    y=\"Change in Daily Circulation, 2004-2013 in Percent\", \n",
    "    data=pulitzers)"
   ]
  },
  {
   "cell_type": "markdown",
   "id": "ad282fd4",
   "metadata": {},
   "source": [
    "### Restaurant Inspections\n",
    "\n",
    "In this next section, let's look at a larger dataset. This is restaurant inspections for all restaurants in Alameda County as of Aug 1, 2020. It has 55,000 rows, which is difficult to open in spreadsheet software. "
   ]
  },
  {
   "cell_type": "code",
   "execution_count": null,
   "id": "9275055d",
   "metadata": {},
   "outputs": [],
   "source": [
    "inspections = pd.read_csv(\"Restaurant_Inspections.csv\")\n",
    "inspections.head()"
   ]
  },
  {
   "cell_type": "markdown",
   "id": "67d47891",
   "metadata": {},
   "source": [
    "We can look at unique values for any column of data. Let's look at the Grade column to see what grades were given. (They correspond to colors)"
   ]
  },
  {
   "cell_type": "code",
   "execution_count": null,
   "id": "47674e89",
   "metadata": {},
   "outputs": [],
   "source": [
    "inspections.Grade.unique()"
   ]
  },
  {
   "cell_type": "code",
   "execution_count": null,
   "id": "625fd616",
   "metadata": {},
   "outputs": [],
   "source": [
    "inspections.groupby(\"Grade\").Facility_ID.count()"
   ]
  },
  {
   "cell_type": "markdown",
   "id": "7aae18f6",
   "metadata": {},
   "source": [
    "We can search by grade or by a name of a specific restaurant."
   ]
  },
  {
   "cell_type": "code",
   "execution_count": null,
   "id": "7ceca4f6",
   "metadata": {},
   "outputs": [],
   "source": [
    "inspections[inspections[\"Grade\"] == \"R\"]"
   ]
  },
  {
   "cell_type": "code",
   "execution_count": null,
   "id": "046cf804",
   "metadata": {},
   "outputs": [],
   "source": [
    "reds = inspections[inspections[\"Grade\"] == \"R\"]\n",
    "reds.groupby(\"City\").count()"
   ]
  },
  {
   "cell_type": "code",
   "execution_count": null,
   "id": "8cc6e3b1",
   "metadata": {},
   "outputs": [],
   "source": [
    "inspections[inspections[\"Facility_Name\"] == \"BLIND TIGER\"]"
   ]
  }
 ],
 "metadata": {
  "kernelspec": {
   "display_name": "Python 3 (ipykernel)",
   "language": "python",
   "name": "python3"
  },
  "language_info": {
   "codemirror_mode": {
    "name": "ipython",
    "version": 3
   },
   "file_extension": ".py",
   "mimetype": "text/x-python",
   "name": "python",
   "nbconvert_exporter": "python",
   "pygments_lexer": "ipython3",
   "version": "3.12.1"
  }
 },
 "nbformat": 4,
 "nbformat_minor": 5
}
