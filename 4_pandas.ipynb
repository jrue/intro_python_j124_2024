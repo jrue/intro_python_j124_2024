{
 "cells": [
  {
   "cell_type": "markdown",
   "id": "e31b317f",
   "metadata": {},
   "source": [
    "## Importing Libraries\n",
    "\n",
    "Okay, now that we have all of that out of the way, we will do some data stuff. The first thing we need to do is import some libraries. We will use the popular Pandas library, and also import Seaborn for doing some basic data visaulizations. These libraries were installed prior to this lesson, so you don't have to install them. But if you were doing this on your own, you'd need to install them before running the code below."
   ]
  },
  {
   "cell_type": "code",
   "execution_count": null,
   "id": "4a63d525",
   "metadata": {},
   "outputs": [],
   "source": [
    "import numpy as np\n",
    "import pandas as pd\n",
    "import seaborn as sns\n",
    "import matplotlib.pyplot as plt"
   ]
  },
  {
   "cell_type": "markdown",
   "id": "5143e53d",
   "metadata": {},
   "source": [
    "Now that we've imported our libraries, let's bring in our .csv file using pandas. Notice above, our Pandas library was stored in a variable called \"pd\" (short for Pandas). Technically, we could have specified anything for our Pandas library, but pd is the standard convention, so let's stick with that."
   ]
  },
  {
   "cell_type": "code",
   "execution_count": null,
   "id": "8be1eb33",
   "metadata": {},
   "outputs": [],
   "source": [
    "df = pd.read_csv(\"child-immigrant-data.csv\", dtype={\"Sponsor Zipcode\":str})"
   ]
  },
  {
   "cell_type": "markdown",
   "id": "f294c517",
   "metadata": {},
   "source": [
    "Now, let's take a look and see what it looks like. We can run the command `head()` on the variable to see the first five rows of data."
   ]
  },
  {
   "cell_type": "code",
   "execution_count": null,
   "id": "e96b6c48",
   "metadata": {},
   "outputs": [],
   "source": [
    "df.head()"
   ]
  },
  {
   "cell_type": "markdown",
   "id": "81cc70a5",
   "metadata": {},
   "source": [
    "We can also put a number in the parenthesis to specify a specific number of rows to show."
   ]
  },
  {
   "cell_type": "code",
   "execution_count": null,
   "id": "706eee99",
   "metadata": {},
   "outputs": [],
   "source": [
    "df.head(10)"
   ]
  },
  {
   "cell_type": "code",
   "execution_count": null,
   "id": "da3a7ebc-7fdf-4ebd-be15-5ad47c1548b1",
   "metadata": {},
   "outputs": [],
   "source": [
    "df.tail()"
   ]
  },
  {
   "cell_type": "markdown",
   "id": "f28b5f1d",
   "metadata": {},
   "source": [
    "### Interview Functions\n",
    "\n",
    "Let's interview our data. Here are some functions we can run. The \"df\" is a placeholder for your data. It's stands for \"data frame\" which is what we call this datatype when using Pandas.\n",
    "\n",
    "`df.head()` - get the first 5 rows of your data (or specify number)\n",
    "\n",
    "`df.tail()` - get the last 5 rows of your data (or specify number)\n",
    "\n",
    "`df.sample(5)` - get a random sampling of 5 rows of your data\n",
    "\n",
    "`df.columns` - get a list of all the columns\n",
    "\n",
    "`df.info()` - get number of rows with data and data type for each column \n",
    "\n",
    "`df.shape` - get the number of rows and columns\n",
    "\n",
    "`df.describe()` - get a variety of statistical calculations for all values in each column\n",
    "\n",
    "Let's take these functions for a spin:"
   ]
  },
  {
   "cell_type": "code",
   "execution_count": null,
   "id": "7a6b8dda",
   "metadata": {},
   "outputs": [],
   "source": [
    "df.columns"
   ]
  },
  {
   "cell_type": "code",
   "execution_count": null,
   "id": "98529117",
   "metadata": {},
   "outputs": [],
   "source": [
    "#describes the number of rows and columns\n",
    "df.shape"
   ]
  },
  {
   "cell_type": "code",
   "execution_count": null,
   "id": "b7e8c322-d856-4e82-8bbb-8bba4a35b5b2",
   "metadata": {},
   "outputs": [],
   "source": [
    "df.describe()"
   ]
  },
  {
   "cell_type": "code",
   "execution_count": null,
   "id": "9546b4ec-2b62-49a0-98c4-7f8745c83064",
   "metadata": {},
   "outputs": [],
   "source": [
    "df[\"Length of Detention\"].mean()"
   ]
  },
  {
   "cell_type": "code",
   "execution_count": null,
   "id": "85aa8126",
   "metadata": {},
   "outputs": [],
   "source": [
    "df[\"Child's Gender\"].value_counts()"
   ]
  },
  {
   "cell_type": "code",
   "execution_count": null,
   "id": "82eb272d-7d9a-4e2b-a415-dbc20946fda3",
   "metadata": {},
   "outputs": [],
   "source": [
    "df[\"Child's Country of Origin\"].value_counts()"
   ]
  },
  {
   "cell_type": "code",
   "execution_count": null,
   "id": "f779269a-643c-4370-bd40-65a0cc918d81",
   "metadata": {},
   "outputs": [],
   "source": [
    "df[\"Child's Country of Origin\"].value_counts()[0:10]"
   ]
  },
  {
   "cell_type": "markdown",
   "id": "ad99e076",
   "metadata": {},
   "source": [
    "Note that we can also use dot-notation to call any column we want."
   ]
  },
  {
   "cell_type": "code",
   "execution_count": null,
   "id": "261a2818",
   "metadata": {},
   "outputs": [],
   "source": [
    "df[\"Child's Country of Origin\"].value_counts()[0:10].plot.barh()"
   ]
  },
  {
   "cell_type": "code",
   "execution_count": null,
   "id": "d9424ac3-7330-402f-9e57-2fd5dad51707",
   "metadata": {},
   "outputs": [],
   "source": [
    "df[\"Child's Country of Origin\"].value_counts()[0:10].sort_values(ascending=True).plot.barh()"
   ]
  },
  {
   "cell_type": "code",
   "execution_count": null,
   "id": "aed36e5c-22ca-44da-a9e9-6e6c5852e697",
   "metadata": {},
   "outputs": [],
   "source": [
    "df[\"Length of Detention\"].plot.hist(bins=100)"
   ]
  },
  {
   "cell_type": "code",
   "execution_count": null,
   "id": "3934c61c-7195-4f79-8260-6566e030914d",
   "metadata": {},
   "outputs": [],
   "source": [
    "df[\"Length of Detention\"].describe()"
   ]
  },
  {
   "cell_type": "code",
   "execution_count": null,
   "id": "69bd462b-d790-41f5-b011-6328dacdd8d1",
   "metadata": {},
   "outputs": [],
   "source": [
    "df[df[\"Length of Detention\"] == 1747]"
   ]
  }
 ],
 "metadata": {
  "kernelspec": {
   "display_name": "Python 3 (ipykernel)",
   "language": "python",
   "name": "python3"
  },
  "language_info": {
   "codemirror_mode": {
    "name": "ipython",
    "version": 3
   },
   "file_extension": ".py",
   "mimetype": "text/x-python",
   "name": "python",
   "nbconvert_exporter": "python",
   "pygments_lexer": "ipython3",
   "version": "3.12.1"
  }
 },
 "nbformat": 4,
 "nbformat_minor": 5
}
