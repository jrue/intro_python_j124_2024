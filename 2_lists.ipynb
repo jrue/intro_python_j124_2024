{
 "cells": [
  {
   "cell_type": "markdown",
   "id": "6326e218",
   "metadata": {},
   "source": [
    "### Lists\n",
    "\n",
    "There is a special type of variable in Python called lists. It's pretty cool. It gives us the ability to store multiple values in a single variable. Let's take a look:"
   ]
  },
  {
   "cell_type": "code",
   "execution_count": 1,
   "id": "b198de23",
   "metadata": {},
   "outputs": [
    {
     "data": {
      "text/plain": [
       "['January',\n",
       " 'February',\n",
       " 'March',\n",
       " 'April',\n",
       " 'May',\n",
       " 'June',\n",
       " 'July',\n",
       " 'August',\n",
       " 'September',\n",
       " 'October',\n",
       " 'November']"
      ]
     },
     "execution_count": 1,
     "metadata": {},
     "output_type": "execute_result"
    }
   ],
   "source": [
    "months = [\"January\", \"February\", \"March\", \"April\", \"May\", \"June\", \"July\", \"August\", \"September\", \"October\", \"November\"]\n",
    "months"
   ]
  },
  {
   "cell_type": "markdown",
   "id": "f917db0d",
   "metadata": {},
   "source": [
    "Notice the output simply lists the values in the list. How do we recall a value? We use something called the **zero index**, which starts with zero as the first value, and so on?\n",
    "\n",
    "Take a guess, what will the following output?"
   ]
  },
  {
   "cell_type": "code",
   "execution_count": 2,
   "id": "de5e9d09",
   "metadata": {},
   "outputs": [
    {
     "data": {
      "text/plain": [
       "['January',\n",
       " 'February',\n",
       " 'March',\n",
       " 'April',\n",
       " 'May',\n",
       " 'June',\n",
       " 'July',\n",
       " 'August',\n",
       " 'September',\n",
       " 'October',\n",
       " 'November',\n",
       " 'December']"
      ]
     },
     "execution_count": 2,
     "metadata": {},
     "output_type": "execute_result"
    }
   ],
   "source": [
    "months.append('December')\n",
    "months"
   ]
  },
  {
   "cell_type": "code",
   "execution_count": null,
   "id": "0528f1a8",
   "metadata": {},
   "outputs": [],
   "source": [
    "months[0]"
   ]
  },
  {
   "cell_type": "markdown",
   "id": "e36a60a0",
   "metadata": {},
   "source": [
    "What about this one?"
   ]
  },
  {
   "cell_type": "code",
   "execution_count": null,
   "id": "442d1106",
   "metadata": {},
   "outputs": [],
   "source": [
    "months[1]"
   ]
  },
  {
   "cell_type": "markdown",
   "id": "702fc403",
   "metadata": {},
   "source": [
    "OK, one more time... before running this code, take a guess, what will this output?"
   ]
  },
  {
   "cell_type": "code",
   "execution_count": null,
   "id": "19334857",
   "metadata": {},
   "outputs": [],
   "source": [
    "months[5]"
   ]
  },
  {
   "cell_type": "markdown",
   "id": "e29336cc",
   "metadata": {},
   "source": [
    "There are also special commands called \"methods\" we can run on lists. \n",
    "\n",
    "We can ask this list how long it is:"
   ]
  },
  {
   "cell_type": "code",
   "execution_count": null,
   "id": "cd49e024",
   "metadata": {},
   "outputs": [],
   "source": [
    "len(months)"
   ]
  },
  {
   "cell_type": "markdown",
   "id": "a6f50472",
   "metadata": {},
   "source": [
    "We can also append (add to) the list, even though we already assigned the values."
   ]
  },
  {
   "cell_type": "markdown",
   "id": "195ca511",
   "metadata": {},
   "source": [
    "We can also extract a portion, or slice, of this list using special notation."
   ]
  },
  {
   "cell_type": "code",
   "execution_count": null,
   "id": "04cc38ea",
   "metadata": {},
   "outputs": [],
   "source": [
    "months[0:3]"
   ]
  },
  {
   "cell_type": "markdown",
   "id": "411517d7",
   "metadata": {},
   "source": [
    "Note that the zero referred to the first item, but the second number referrs to the item before the index. Here is a nifty guide to refer to if you ever forget:\n",
    "\n",
    "```python\n",
    "a[start:stop] # items start until stop - 1\n",
    "a[start:]     # items start then go through the rest of the list\n",
    "a[:stop]      # items from the beginning until stop - 1\n",
    "a[:]          # a copy of the whole list\n",
    "\n",
    "a[start:stop:step] # start, but do not past stop, by step\n",
    "```\n",
    "\n",
    "Try a few of these from above yourself in the next cell:"
   ]
  },
  {
   "cell_type": "code",
   "execution_count": null,
   "id": "2d2d47fc",
   "metadata": {},
   "outputs": [],
   "source": [
    "months[]"
   ]
  }
 ],
 "metadata": {
  "kernelspec": {
   "display_name": "Python 3 (ipykernel)",
   "language": "python",
   "name": "python3"
  },
  "language_info": {
   "codemirror_mode": {
    "name": "ipython",
    "version": 3
   },
   "file_extension": ".py",
   "mimetype": "text/x-python",
   "name": "python",
   "nbconvert_exporter": "python",
   "pygments_lexer": "ipython3",
   "version": "3.12.1"
  }
 },
 "nbformat": 4,
 "nbformat_minor": 5
}
